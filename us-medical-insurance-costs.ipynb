{
 "cells": [
  {
   "cell_type": "markdown",
   "metadata": {},
   "source": [
    "# U.S. Medical Insurance Costs"
   ]
  },
  {
   "cell_type": "code",
   "execution_count": 2,
   "metadata": {},
   "outputs": [
    {
     "name": "stdout",
     "output_type": "stream",
     "text": [
      "['19', '18', '28', '33', '32', '31', '46', '37', '37', '60']\n"
     ]
    }
   ],
   "source": [
    "\n",
    "import csv\n",
    "\n",
    "#I'll define here the (empty) lists to be populated with corresponding data after reading the csv file\n",
    "\n",
    "age= []\n",
    "sex= []\n",
    "bmi= []\n",
    "children=[]\n",
    "smoker=[]\n",
    "region=[]\n",
    "charges=[]\n",
    "\n",
    "\n",
    "def read_func(list, attribute):\n",
    "    with open(r\"C:\\Users\\StanO\\Downloads\\PBI\\PERSONAL\\Python Pj\\insurance.csv\") as insurance:\n",
    "        insurance_csv=csv.DictReader(insurance)\n",
    "        count = 0\n",
    "        for row in insurance_csv:\n",
    "            list.append(row[attribute])\n",
    "        for row in insurance_csv:\n",
    "            print(row)\n",
    "            if count > 9:\n",
    "                break\n",
    "            count += 1\n",
    "            \n",
    "    return list\n",
    "\n",
    "read_func(age, 'age')\n",
    "read_func(sex, 'sex')\n",
    "read_func(bmi, 'bmi')\n",
    "read_func(children, 'children')\n",
    "read_func(smoker, 'smoker')\n",
    "read_func(region, 'region')\n",
    "read_func(charges, 'charges')\n",
    "\n",
    "        \n",
    "#checking the first 10 elements added to the list age     \n",
    "print(age[:10])"
   ]
  },
  {
   "cell_type": "code",
   "execution_count": 3,
   "metadata": {},
   "outputs": [
    {
     "name": "stdout",
     "output_type": "stream",
     "text": [
      "<class 'str'>\n"
     ]
    }
   ],
   "source": [
    "#checking the data type in the list \"age\"\n",
    "print(type(age[0]))\n",
    "\n",
    "#converting strings to integers/floats for lists age, bmi, charges, children\n",
    "\n",
    "age = [int(x) for x in age]\n",
    "bmi = [float(x) for x in bmi]\n",
    "charges = [float(x) for x in charges]\n",
    "children = [int(x) for x in children]"
   ]
  },
  {
   "cell_type": "code",
   "execution_count": 5,
   "metadata": {},
   "outputs": [
    {
     "name": "stdout",
     "output_type": "stream",
     "text": [
      "The average value of age is 39.21\n",
      "The average value of bmi index is 30.66\n",
      "The average value of insurance charges is 13270.42\n"
     ]
    }
   ],
   "source": [
    "#1. the average age, average bmi and average charges \n",
    "\n",
    "def average_value(lst):\n",
    "    return sum(lst)/len(lst)\n",
    "print(\"The average value of age is \" + str(round(average_value(age), 2)))\n",
    "print(\"The average value of bmi index is \" + str(round(average_value(bmi), 2)))\n",
    "print(\"The average value of insurance charges is \" + str(round(average_value(charges), 2)))"
   ]
  },
  {
   "cell_type": "code",
   "execution_count": 6,
   "metadata": {},
   "outputs": [
    {
     "name": "stdout",
     "output_type": "stream",
     "text": [
      "The sex ratio value for the surveyed people is 98.0\n",
      "Out of the total individuals included in the survey, 26.0% are smokers\n"
     ]
    }
   ],
   "source": [
    "#2. defining a function to determine sex ratio and smokers/non-smokers ratio \n",
    "\n",
    "sex_ratio = round(sex.count('female')/sex.count('male'), 2)\n",
    "print(\"The sex ratio value for the surveyed people is \" + str((sex_ratio)*100))\n",
    "\n",
    "smokers_ratio = round(smoker.count('yes')/smoker.count('no'), 2)\n",
    "print(\"Out of the total individuals included in the survey, \" + str((smokers_ratio)*100) + \"% are smokers\")"
   ]
  },
  {
   "cell_type": "code",
   "execution_count": 7,
   "metadata": {},
   "outputs": [
    {
     "name": "stdout",
     "output_type": "stream",
     "text": [
      "The average age for an individual to have at least one child is 26\n"
     ]
    }
   ],
   "source": [
    "#3.  the average age for an individual to have at least one child\n",
    "\n",
    "parent_age = []\n",
    "for number in children:\n",
    "    if number != 0:\n",
    "        parent_age.append(age[children.index(number)])\n",
    "print(\"The average age for an individual to have at least one child is \" + str(round(average_value((parent_age)))))"
   ]
  },
  {
   "cell_type": "code",
   "execution_count": 8,
   "metadata": {},
   "outputs": [
    {
     "name": "stdout",
     "output_type": "stream",
     "text": [
      "The average BMI index for smokers is 27.9, while the average BMI index for non-smokers is 33.77\n"
     ]
    }
   ],
   "source": [
    "#4. the average BMI for smokers vs. non-smokers\n",
    "\n",
    "bmi_smokers = []\n",
    "for item in smoker:\n",
    "    if item == 'yes':\n",
    "        bmi_smokers.append(bmi[smoker.index(item)])\n",
    "avg_bmi_smokers = round(sum(bmi_smokers)/len(bmi_smokers), 2)\n",
    "bmi_nonsmokers = []\n",
    "for item in smoker:\n",
    "    if item == 'no':\n",
    "        bmi_nonsmokers.append(bmi[smoker.index(item)])\n",
    "avg_bmi_nonsmokers = round(sum(bmi_nonsmokers)/len(bmi_nonsmokers), 2)\n",
    "print('The average BMI index for smokers is ' + str(avg_bmi_smokers) + ', while the average BMI index for non-smokers is ' + str(avg_bmi_nonsmokers))"
   ]
  },
  {
   "cell_type": "code",
   "execution_count": 9,
   "metadata": {},
   "outputs": [
    {
     "name": "stdout",
     "output_type": "stream",
     "text": [
      "41.97% of the smokers in the study are females, while 58.03% of them are males.\n"
     ]
    }
   ],
   "source": [
    "#5. percent of smokers by sex\n",
    "\n",
    "smokers_female = 0\n",
    "for a, b in zip(sex, smoker):\n",
    "    if a == 'female' and b == 'yes':\n",
    "        smokers_female += 1\n",
    "smokers_male = 0\n",
    "for a, b in zip(sex, smoker):\n",
    "    if a == 'male' and b == 'yes':\n",
    "        smokers_male += 1\n",
    "total_smokers = 0\n",
    "for answer in smoker:\n",
    "    if answer == 'yes':\n",
    "        total_smokers += 1\n",
    "print(str(round(smokers_female/total_smokers*100, 2)) + \"% of the smokers in the study are females, while \" + str(round(smokers_male/total_smokers*100, 2)) + \"% of them are males.\" )"
   ]
  },
  {
   "cell_type": "code",
   "execution_count": 10,
   "metadata": {},
   "outputs": [
    {
     "name": "stdout",
     "output_type": "stream",
     "text": [
      "42.9% of the interviewed people are not having children at the moment.\n"
     ]
    }
   ],
   "source": [
    "#6. percent of people not being parents\n",
    "\n",
    "not_parents = 0\n",
    "for child in children:\n",
    "    if child == 0:\n",
    "        not_parents += 1\n",
    "print(str(round(not_parents/len(children)*100, 2)) + \"% of the interviewed people are not having children at the moment.\")"
   ]
  },
  {
   "cell_type": "code",
   "execution_count": 11,
   "metadata": {},
   "outputs": [
    {
     "name": "stdout",
     "output_type": "stream",
     "text": [
      "The patient having the lowest insurance cost is having 18 years old\n",
      "The patient having the highest insurance cost is having 54 years old\n",
      "The patient having the lowest insurance cost is a male.\n",
      "The patient having the highest insurance cost is a female.\n",
      "The patient having the lowest insurance cost is having a bmi index of 23.21\n",
      "The patient having the highest insurance cost is having a bmi index of 47.41\n",
      "The patient having the lowest insurance cost is having 0 children\n",
      "The patient having the highest insurance cost is having 0 children\n"
     ]
    }
   ],
   "source": [
    "#7. individual characteristics corresponding to the minimum/maximum insurance cost \n",
    "\n",
    "print(\"The patient having the lowest insurance cost is having \" + str(age[charges.index(min(charges))]) + \" years old\")\n",
    "print(\"The patient having the highest insurance cost is having \" + str(age[charges.index(max(charges))]) + \" years old\")\n",
    "print(\"The patient having the lowest insurance cost is a \" + str(sex[charges.index(min(charges))]) + \".\")\n",
    "print(\"The patient having the highest insurance cost is a \" + str(sex[charges.index(max(charges))]) + \".\")\n",
    "print(\"The patient having the lowest insurance cost is having a bmi index of \" + str(bmi[charges.index(min(charges))]))\n",
    "print(\"The patient having the highest insurance cost is having a bmi index of \" + str(bmi[charges.index(max(charges))]))\n",
    "print(\"The patient having the lowest insurance cost is having \" + str(children[charges.index(min(charges))]) + \" children\")\n",
    "print(\"The patient having the highest insurance cost is having \" + str(children[charges.index(max(charges))]) + \" children\")"
   ]
  },
  {
   "cell_type": "code",
   "execution_count": null,
   "metadata": {},
   "outputs": [],
   "source": []
  }
 ],
 "metadata": {
  "kernelspec": {
   "display_name": "Python 3 (ipykernel)",
   "language": "python",
   "name": "python3"
  },
  "language_info": {
   "codemirror_mode": {
    "name": "ipython",
    "version": 3
   },
   "file_extension": ".py",
   "mimetype": "text/x-python",
   "name": "python",
   "nbconvert_exporter": "python",
   "pygments_lexer": "ipython3",
   "version": "3.9.13"
  }
 },
 "nbformat": 4,
 "nbformat_minor": 4
}
